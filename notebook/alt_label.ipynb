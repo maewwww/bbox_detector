{
 "cells": [
  {
   "cell_type": "markdown",
   "id": "ce141338-2006-4bf4-92d2-cf514f205236",
   "metadata": {},
   "source": [
    "Creating alternative label from\n",
    "(xmin, ymin, xmax, ymix) ->\n",
    "(x_origin, y_origin, width, height)"
   ]
  },
  {
   "cell_type": "code",
   "execution_count": 6,
   "id": "ca031efd-c729-46db-8b3d-c7a5d96b7e0a",
   "metadata": {},
   "outputs": [],
   "source": [
    "with open(\"../dataset/one_revoc/label.csv\", \"r\") as f:\n",
    "    label_file = f.readlines()"
   ]
  },
  {
   "cell_type": "code",
   "execution_count": 2,
   "id": "475fc24c-d556-4b21-adf2-0114e7665aa6",
   "metadata": {},
   "outputs": [],
   "source": [
    "def get_new_label(xmin, ymin, xmax, ymax):\n",
    "    xmin, ymin, xmax, ymax = [int(x) for x in [xmin, ymin, xmax, ymax]]\n",
    "    height = ymax - ymin\n",
    "    width = xmax - xmin\n",
    "    x_origin = int(xmin + (width/2))\n",
    "    y_origin = int(ymin + (height/2))\n",
    "    return [str(x) for x in [x_origin, y_origin, height, width]]"
   ]
  },
  {
   "cell_type": "code",
   "execution_count": 7,
   "id": "069cf5d9-a783-461f-9684-f461fa5f7ef8",
   "metadata": {},
   "outputs": [],
   "source": [
    "with open(\"../dataset/one_revoc/alt_label.csv\", \"w\") as f:\n",
    "    for label in label_file:\n",
    "        name, xmin, ymin, xmax, ymax = label.split(\",\")\n",
    "        ymax = ymax.strip()\n",
    "        new_line = \",\".join([name] + get_new_label(xmin, ymin, xmax, ymax)) + \"\\n\"\n",
    "        f.write(new_line)"
   ]
  },
  {
   "cell_type": "markdown",
   "id": "9b6864a2-416b-45d4-af3b-c742fa83265e",
   "metadata": {},
   "source": [
    "Do the same for the other dataset"
   ]
  },
  {
   "cell_type": "code",
   "execution_count": 8,
   "id": "fdd71e5e-970e-465f-ab16-416fc5c09595",
   "metadata": {},
   "outputs": [],
   "source": [
    "with open(\"../dataset/one_revoc_original/label.csv\", \"r\") as f:\n",
    "    label_file = f.readlines()"
   ]
  },
  {
   "cell_type": "code",
   "execution_count": 9,
   "id": "c4444da7-4bf7-4613-9f46-8947232c3f77",
   "metadata": {},
   "outputs": [],
   "source": [
    "with open(\"../dataset/one_revoc_original/alt_label.csv\", \"w\") as f:\n",
    "    for label in label_file[1:]:\n",
    "        name, xmin, ymin, xmax, ymax = label.split(\",\")\n",
    "        ymax = ymax.strip()\n",
    "        new_line = \",\".join([name] + get_new_label(xmin, ymin, xmax, ymax)) + \"\\n\"\n",
    "        f.write(new_line)"
   ]
  }
 ],
 "metadata": {
  "kernelspec": {
   "display_name": "Python 3 (ipykernel)",
   "language": "python",
   "name": "python3"
  },
  "language_info": {
   "codemirror_mode": {
    "name": "ipython",
    "version": 3
   },
   "file_extension": ".py",
   "mimetype": "text/x-python",
   "name": "python",
   "nbconvert_exporter": "python",
   "pygments_lexer": "ipython3",
   "version": "3.10.0"
  }
 },
 "nbformat": 4,
 "nbformat_minor": 5
}
